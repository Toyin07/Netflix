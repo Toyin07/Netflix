{
 "cells": [
  {
   "cell_type": "code",
   "execution_count": 6,
   "id": "ff267ef4",
   "metadata": {},
   "outputs": [],
   "source": [
    "import pandas as pd\n",
    "import numpy as np\n",
    "import seaborn as sns\n",
    "\n",
    "import matplotlib.pyplot as plt\n",
    "import matplotlib.mlab as mlab\n",
    "import matplotlib\n",
    "plt.style.use('ggplot')\n",
    "from matplotlib.pyplot import figure\n",
    "\n",
    "%matplotlib inline\n",
    "matplotlib.rcParams['figure.figsize'] = (12,8)\n",
    "\n",
    "pd.options.mode.chained_assignment = None\n",
    "\n"
   ]
  },
  {
   "cell_type": "code",
   "execution_count": 60,
   "id": "e5a75bd5",
   "metadata": {},
   "outputs": [],
   "source": [
    "netflix_data = r'C:\\Users\\Oluwatoyin\\OneDrive - House on the Rock\\Documents\\NetflixOriginals.csv'"
   ]
  },
  {
   "cell_type": "code",
   "execution_count": 61,
   "id": "19d65c15",
   "metadata": {},
   "outputs": [],
   "source": [
    "dataframe = pd.read_csv(netflix_data)"
   ]
  },
  {
   "cell_type": "code",
   "execution_count": 62,
   "id": "7efa8863",
   "metadata": {},
   "outputs": [
    {
     "data": {
      "text/html": [
       "<div>\n",
       "<style scoped>\n",
       "    .dataframe tbody tr th:only-of-type {\n",
       "        vertical-align: middle;\n",
       "    }\n",
       "\n",
       "    .dataframe tbody tr th {\n",
       "        vertical-align: top;\n",
       "    }\n",
       "\n",
       "    .dataframe thead th {\n",
       "        text-align: right;\n",
       "    }\n",
       "</style>\n",
       "<table border=\"1\" class=\"dataframe\">\n",
       "  <thead>\n",
       "    <tr style=\"text-align: right;\">\n",
       "      <th></th>\n",
       "      <th>Title</th>\n",
       "      <th>Genre</th>\n",
       "      <th>Premiere</th>\n",
       "      <th>Runtime</th>\n",
       "      <th>IMDB Score</th>\n",
       "      <th>Language</th>\n",
       "    </tr>\n",
       "  </thead>\n",
       "  <tbody>\n",
       "    <tr>\n",
       "      <th>0</th>\n",
       "      <td>Enter the Anime</td>\n",
       "      <td>Documentary</td>\n",
       "      <td>August 5, 2019</td>\n",
       "      <td>58</td>\n",
       "      <td>2.5</td>\n",
       "      <td>English/Japanese</td>\n",
       "    </tr>\n",
       "    <tr>\n",
       "      <th>1</th>\n",
       "      <td>Dark Forces</td>\n",
       "      <td>Thriller</td>\n",
       "      <td>August 21, 2020</td>\n",
       "      <td>81</td>\n",
       "      <td>2.6</td>\n",
       "      <td>Spanish</td>\n",
       "    </tr>\n",
       "    <tr>\n",
       "      <th>2</th>\n",
       "      <td>The App</td>\n",
       "      <td>Science fiction/Drama</td>\n",
       "      <td>December 26, 2019</td>\n",
       "      <td>79</td>\n",
       "      <td>2.6</td>\n",
       "      <td>Italian</td>\n",
       "    </tr>\n",
       "    <tr>\n",
       "      <th>3</th>\n",
       "      <td>The Open House</td>\n",
       "      <td>Horror thriller</td>\n",
       "      <td>January 19, 2018</td>\n",
       "      <td>94</td>\n",
       "      <td>3.2</td>\n",
       "      <td>English</td>\n",
       "    </tr>\n",
       "    <tr>\n",
       "      <th>4</th>\n",
       "      <td>Kaali Khuhi</td>\n",
       "      <td>Mystery</td>\n",
       "      <td>October 30, 2020</td>\n",
       "      <td>90</td>\n",
       "      <td>3.4</td>\n",
       "      <td>Hindi</td>\n",
       "    </tr>\n",
       "    <tr>\n",
       "      <th>...</th>\n",
       "      <td>...</td>\n",
       "      <td>...</td>\n",
       "      <td>...</td>\n",
       "      <td>...</td>\n",
       "      <td>...</td>\n",
       "      <td>...</td>\n",
       "    </tr>\n",
       "    <tr>\n",
       "      <th>579</th>\n",
       "      <td>Taylor Swift: Reputation Stadium Tour</td>\n",
       "      <td>Concert Film</td>\n",
       "      <td>December 31, 2018</td>\n",
       "      <td>125</td>\n",
       "      <td>8.4</td>\n",
       "      <td>English</td>\n",
       "    </tr>\n",
       "    <tr>\n",
       "      <th>580</th>\n",
       "      <td>Winter on Fire: Ukraine's Fight for Freedom</td>\n",
       "      <td>Documentary</td>\n",
       "      <td>October 9, 2015</td>\n",
       "      <td>91</td>\n",
       "      <td>8.4</td>\n",
       "      <td>English/Ukranian/Russian</td>\n",
       "    </tr>\n",
       "    <tr>\n",
       "      <th>581</th>\n",
       "      <td>Springsteen on Broadway</td>\n",
       "      <td>One-man show</td>\n",
       "      <td>December 16, 2018</td>\n",
       "      <td>153</td>\n",
       "      <td>8.5</td>\n",
       "      <td>English</td>\n",
       "    </tr>\n",
       "    <tr>\n",
       "      <th>582</th>\n",
       "      <td>Emicida: AmarElo - It's All For Yesterday</td>\n",
       "      <td>Documentary</td>\n",
       "      <td>December 8, 2020</td>\n",
       "      <td>89</td>\n",
       "      <td>8.6</td>\n",
       "      <td>Portuguese</td>\n",
       "    </tr>\n",
       "    <tr>\n",
       "      <th>583</th>\n",
       "      <td>David Attenborough: A Life on Our Planet</td>\n",
       "      <td>Documentary</td>\n",
       "      <td>October 4, 2020</td>\n",
       "      <td>83</td>\n",
       "      <td>9.0</td>\n",
       "      <td>English</td>\n",
       "    </tr>\n",
       "  </tbody>\n",
       "</table>\n",
       "<p>584 rows × 6 columns</p>\n",
       "</div>"
      ],
      "text/plain": [
       "                                           Title                  Genre  \\\n",
       "0                                Enter the Anime            Documentary   \n",
       "1                                    Dark Forces               Thriller   \n",
       "2                                        The App  Science fiction/Drama   \n",
       "3                                 The Open House        Horror thriller   \n",
       "4                                    Kaali Khuhi                Mystery   \n",
       "..                                           ...                    ...   \n",
       "579        Taylor Swift: Reputation Stadium Tour           Concert Film   \n",
       "580  Winter on Fire: Ukraine's Fight for Freedom            Documentary   \n",
       "581                      Springsteen on Broadway           One-man show   \n",
       "582    Emicida: AmarElo - It's All For Yesterday            Documentary   \n",
       "583     David Attenborough: A Life on Our Planet            Documentary   \n",
       "\n",
       "              Premiere  Runtime  IMDB Score                  Language  \n",
       "0       August 5, 2019       58         2.5          English/Japanese  \n",
       "1      August 21, 2020       81         2.6                   Spanish  \n",
       "2    December 26, 2019       79         2.6                   Italian  \n",
       "3     January 19, 2018       94         3.2                   English  \n",
       "4     October 30, 2020       90         3.4                     Hindi  \n",
       "..                 ...      ...         ...                       ...  \n",
       "579  December 31, 2018      125         8.4                   English  \n",
       "580    October 9, 2015       91         8.4  English/Ukranian/Russian  \n",
       "581  December 16, 2018      153         8.5                   English  \n",
       "582   December 8, 2020       89         8.6                Portuguese  \n",
       "583    October 4, 2020       83         9.0                   English  \n",
       "\n",
       "[584 rows x 6 columns]"
      ]
     },
     "execution_count": 62,
     "metadata": {},
     "output_type": "execute_result"
    }
   ],
   "source": [
    "dataframe"
   ]
  },
  {
   "cell_type": "code",
   "execution_count": 63,
   "id": "924ecd8b",
   "metadata": {},
   "outputs": [
    {
     "data": {
      "text/plain": [
       "(584, 6)"
      ]
     },
     "execution_count": 63,
     "metadata": {},
     "output_type": "execute_result"
    }
   ],
   "source": [
    "dataframe.shape"
   ]
  },
  {
   "cell_type": "code",
   "execution_count": 75,
   "id": "9b0a3b79",
   "metadata": {},
   "outputs": [
    {
     "data": {
      "text/html": [
       "<div>\n",
       "<style scoped>\n",
       "    .dataframe tbody tr th:only-of-type {\n",
       "        vertical-align: middle;\n",
       "    }\n",
       "\n",
       "    .dataframe tbody tr th {\n",
       "        vertical-align: top;\n",
       "    }\n",
       "\n",
       "    .dataframe thead th {\n",
       "        text-align: right;\n",
       "    }\n",
       "</style>\n",
       "<table border=\"1\" class=\"dataframe\">\n",
       "  <thead>\n",
       "    <tr style=\"text-align: right;\">\n",
       "      <th></th>\n",
       "      <th>Runtime</th>\n",
       "      <th>IMDB Score</th>\n",
       "    </tr>\n",
       "  </thead>\n",
       "  <tbody>\n",
       "    <tr>\n",
       "      <th>count</th>\n",
       "      <td>584.000000</td>\n",
       "      <td>584.000000</td>\n",
       "    </tr>\n",
       "    <tr>\n",
       "      <th>mean</th>\n",
       "      <td>93.577055</td>\n",
       "      <td>6.271747</td>\n",
       "    </tr>\n",
       "    <tr>\n",
       "      <th>std</th>\n",
       "      <td>27.761683</td>\n",
       "      <td>0.979256</td>\n",
       "    </tr>\n",
       "    <tr>\n",
       "      <th>min</th>\n",
       "      <td>4.000000</td>\n",
       "      <td>2.500000</td>\n",
       "    </tr>\n",
       "    <tr>\n",
       "      <th>25%</th>\n",
       "      <td>86.000000</td>\n",
       "      <td>5.700000</td>\n",
       "    </tr>\n",
       "    <tr>\n",
       "      <th>50%</th>\n",
       "      <td>97.000000</td>\n",
       "      <td>6.350000</td>\n",
       "    </tr>\n",
       "    <tr>\n",
       "      <th>75%</th>\n",
       "      <td>108.000000</td>\n",
       "      <td>7.000000</td>\n",
       "    </tr>\n",
       "    <tr>\n",
       "      <th>max</th>\n",
       "      <td>209.000000</td>\n",
       "      <td>9.000000</td>\n",
       "    </tr>\n",
       "  </tbody>\n",
       "</table>\n",
       "</div>"
      ],
      "text/plain": [
       "          Runtime  IMDB Score\n",
       "count  584.000000  584.000000\n",
       "mean    93.577055    6.271747\n",
       "std     27.761683    0.979256\n",
       "min      4.000000    2.500000\n",
       "25%     86.000000    5.700000\n",
       "50%     97.000000    6.350000\n",
       "75%    108.000000    7.000000\n",
       "max    209.000000    9.000000"
      ]
     },
     "execution_count": 75,
     "metadata": {},
     "output_type": "execute_result"
    }
   ],
   "source": [
    "dataframe.describe()"
   ]
  },
  {
   "cell_type": "code",
   "execution_count": 64,
   "id": "5c9177c0",
   "metadata": {},
   "outputs": [
    {
     "name": "stdout",
     "output_type": "stream",
     "text": [
      "['Title', 'Genre', 'Premiere', 'Runtime', 'IMDB Score', 'Language']\n"
     ]
    }
   ],
   "source": [
    "print(list(dataframe.columns))"
   ]
  },
  {
   "cell_type": "code",
   "execution_count": 65,
   "id": "0aba158e",
   "metadata": {},
   "outputs": [
    {
     "name": "stdout",
     "output_type": "stream",
     "text": [
      "Number of rows:  584\n"
     ]
    }
   ],
   "source": [
    "print(\"Number of rows: \", len(dataframe))"
   ]
  },
  {
   "cell_type": "code",
   "execution_count": 66,
   "id": "68cb29f2",
   "metadata": {},
   "outputs": [
    {
     "name": "stdout",
     "output_type": "stream",
     "text": [
      "             Title                  Genre           Premiere  Runtime  \\\n",
      "0  Enter the Anime            Documentary     August 5, 2019       58   \n",
      "1      Dark Forces               Thriller    August 21, 2020       81   \n",
      "2          The App  Science fiction/Drama  December 26, 2019       79   \n",
      "3   The Open House        Horror thriller   January 19, 2018       94   \n",
      "4      Kaali Khuhi                Mystery   October 30, 2020       90   \n",
      "\n",
      "   IMDB Score          Language  \n",
      "0         2.5  English/Japanese  \n",
      "1         2.6           Spanish  \n",
      "2         2.6           Italian  \n",
      "3         3.2           English  \n",
      "4         3.4             Hindi  \n"
     ]
    }
   ],
   "source": [
    "print(dataframe.head())"
   ]
  },
  {
   "cell_type": "code",
   "execution_count": 67,
   "id": "7da3f7e9",
   "metadata": {},
   "outputs": [
    {
     "name": "stdout",
     "output_type": "stream",
     "text": [
      "{4, 7, 9, 10, 11, 12, 13, 14, 15, 16, 17, 19, 21, 23, 24, 25, 26, 27, 28, 30, 31, 32, 34, 36, 37, 39, 40, 41, 42, 44, 45, 46, 47, 48, 49, 51, 52, 53, 54, 55, 56, 57, 58, 60, 63, 64, 70, 71, 72, 73, 74, 75, 76, 78, 79, 80, 81, 82, 83, 84, 85, 86, 87, 88, 89, 90, 91, 92, 93, 94, 95, 96, 97, 98, 99, 100, 101, 102, 103, 104, 105, 106, 107, 108, 109, 110, 111, 112, 113, 114, 115, 116, 117, 118, 119, 120, 121, 122, 123, 124, 125, 126, 128, 129, 130, 131, 132, 133, 134, 135, 136, 137, 138, 139, 140, 142, 144, 147, 148, 149, 151, 153, 155, 209}\n"
     ]
    }
   ],
   "source": [
    "print(set(dataframe['Runtime']))"
   ]
  },
  {
   "cell_type": "code",
   "execution_count": 68,
   "id": "deef2610",
   "metadata": {},
   "outputs": [],
   "source": [
    "def return_statistics(data_frame, categorical_column, numerical_column):\n",
    "    mean = []\n",
    "    std = []\n",
    "    field = []\n",
    "    for i in set(list(data_frame[categorical_column].values)):\n",
    "        new_data = data_frame[data_frame[categorical_column] == i]\n",
    "        field.append(i)\n",
    "        mean.append(new_data[numerical_column].mean())\n",
    "        std.append(new_data[numerical_column].std())\n",
    "    df = pd.DataFrame({'{}'.format(categorical_column): field, 'mean {}'.format(numerical_column): mean, 'std in {}'.format(numerical_column): std})\n",
    "    df.sort_values('mean {}'.format(numerical_column), inplace = True, ascending = False)\n",
    "    df.dropna(inplace = True)\n",
    "    return dataframe"
   ]
  },
  {
   "cell_type": "code",
   "execution_count": 69,
   "id": "bb1ff6c4",
   "metadata": {},
   "outputs": [
    {
     "name": "stdout",
     "output_type": "stream",
     "text": [
      "                              Title                    Genre  \\\n",
      "0                   Enter the Anime              Documentary   \n",
      "1                       Dark Forces                 Thriller   \n",
      "2                           The App    Science fiction/Drama   \n",
      "3                    The Open House          Horror thriller   \n",
      "4                       Kaali Khuhi                  Mystery   \n",
      "5                             Drive                   Action   \n",
      "6                 Leyla Everlasting                   Comedy   \n",
      "7   The Last Days of American Crime      Heist film/Thriller   \n",
      "8                           Paradox  Musical/Western/Fantasy   \n",
      "9                Sardar Ka Grandson                   Comedy   \n",
      "10             Searching for Sheela              Documentary   \n",
      "11                         The Call                    Drama   \n",
      "12                          Whipped          Romantic comedy   \n",
      "13               All Because of You            Action comedy   \n",
      "14                            Mercy                 Thriller   \n",
      "\n",
      "              Premiere  Runtime  IMDB Score          Language  \n",
      "0       August 5, 2019       58         2.5  English/Japanese  \n",
      "1      August 21, 2020       81         2.6           Spanish  \n",
      "2    December 26, 2019       79         2.6           Italian  \n",
      "3     January 19, 2018       94         3.2           English  \n",
      "4     October 30, 2020       90         3.4             Hindi  \n",
      "5     November 1, 2019      147         3.5             Hindi  \n",
      "6     December 4, 2020      112         3.7           Turkish  \n",
      "7         June 5, 2020      149         3.7           English  \n",
      "8       March 23, 2018       73         3.9           English  \n",
      "9         May 18, 2021      139         4.1             Hindi  \n",
      "10      April 22, 2021       58         4.1           English  \n",
      "11   November 27, 2020      112         4.1            Korean  \n",
      "12  September 18, 2020       97         4.1        Indonesian  \n",
      "13     October 1, 2020      101         4.2             Malay  \n",
      "14   November 22, 2016       90         4.2           English  \n"
     ]
    }
   ],
   "source": [
    "stats = return_statistics(dataframe, 'Genre', 'Runtime')\n",
    "print(stats.head(15))"
   ]
  },
  {
   "cell_type": "code",
   "execution_count": 70,
   "id": "e31b5fd4",
   "metadata": {},
   "outputs": [],
   "source": [
    "def get_boxplot_of_categories(data_frame, categorical_column, numerical_column, limit):\n",
    "    import seaborn as sns\n",
    "    from collections import Counter\n",
    "    keys = []\n",
    "    for i in dict(Counter(df[categorical_column].values).most_common(limit)):\n",
    "        keys.append(i)\n",
    "    print(keys)\n",
    "    df_new = df[df[categorical_column].isin(keys)]\n",
    "    sns.set()\n",
    "    sns.boxplot(x = df_new[categorical_column], y =      df_new[numerical_column])"
   ]
  },
  {
   "cell_type": "code",
   "execution_count": 71,
   "id": "c53d6755",
   "metadata": {},
   "outputs": [
    {
     "name": "stdout",
     "output_type": "stream",
     "text": [
      "['Documentary', 'Drama', 'Comedy', 'Romantic comedy', 'Thriller']\n"
     ]
    },
    {
     "data": {
      "image/png": "[encoded data removed]",
      "text/plain": [
       "<Figure size 864x576 with 1 Axes>"
      ]
     },
     "metadata": {},
     "output_type": "display_data"
    }
   ],
   "source": [
    "get_boxplot_of_categories(dataframe, 'Genre', 'Runtime', 5)"
   ]
  },
  {
   "cell_type": "code",
   "execution_count": 72,
   "id": "9afeb261",
   "metadata": {},
   "outputs": [],
   "source": [
    "def get_histogram(data_frame, numerical_column):\n",
    "    df_new = data_frame\n",
    "    df_new[numerical_column].hist(bins=100)"
   ]
  },
  {
   "cell_type": "code",
   "execution_count": 73,
   "id": "d45beba9",
   "metadata": {},
   "outputs": [
    {
     "data": {
      "image/png": "[encoded data removed]",
      "text/plain": [
       "<Figure size 864x576 with 1 Axes>"
      ]
     },
     "metadata": {},
     "output_type": "display_data"
    }
   ],
   "source": [
    "get_histogram(df, 'Runtime')"
   ]
  },
  {
   "cell_type": "code",
   "execution_count": 30,
   "id": "16b824da",
   "metadata": {},
   "outputs": [
    {
     "data": {
      "text/html": [
       "<div>\n",
       "<style scoped>\n",
       "    .dataframe tbody tr th:only-of-type {\n",
       "        vertical-align: middle;\n",
       "    }\n",
       "\n",
       "    .dataframe tbody tr th {\n",
       "        vertical-align: top;\n",
       "    }\n",
       "\n",
       "    .dataframe thead th {\n",
       "        text-align: right;\n",
       "    }\n",
       "</style>\n",
       "<table border=\"1\" class=\"dataframe\">\n",
       "  <thead>\n",
       "    <tr style=\"text-align: right;\">\n",
       "      <th></th>\n",
       "      <th>Title</th>\n",
       "      <th>Genre</th>\n",
       "      <th>Premiere</th>\n",
       "      <th>Runtime</th>\n",
       "      <th>IMDB Score</th>\n",
       "      <th>Language</th>\n",
       "      <th>Year</th>\n",
       "    </tr>\n",
       "  </thead>\n",
       "  <tbody>\n",
       "    <tr>\n",
       "      <th>0</th>\n",
       "      <td>Enter the Anime</td>\n",
       "      <td>Documentary</td>\n",
       "      <td>August 5, 2019</td>\n",
       "      <td>58</td>\n",
       "      <td>2.5</td>\n",
       "      <td>English/Japanese</td>\n",
       "      <td>Augu</td>\n",
       "    </tr>\n",
       "    <tr>\n",
       "      <th>1</th>\n",
       "      <td>Dark Forces</td>\n",
       "      <td>Thriller</td>\n",
       "      <td>August 21, 2020</td>\n",
       "      <td>81</td>\n",
       "      <td>2.6</td>\n",
       "      <td>Spanish</td>\n",
       "      <td>Augu</td>\n",
       "    </tr>\n",
       "    <tr>\n",
       "      <th>2</th>\n",
       "      <td>The App</td>\n",
       "      <td>Science fiction/Drama</td>\n",
       "      <td>December 26, 2019</td>\n",
       "      <td>79</td>\n",
       "      <td>2.6</td>\n",
       "      <td>Italian</td>\n",
       "      <td>Dece</td>\n",
       "    </tr>\n",
       "    <tr>\n",
       "      <th>3</th>\n",
       "      <td>The Open House</td>\n",
       "      <td>Horror thriller</td>\n",
       "      <td>January 19, 2018</td>\n",
       "      <td>94</td>\n",
       "      <td>3.2</td>\n",
       "      <td>English</td>\n",
       "      <td>Janu</td>\n",
       "    </tr>\n",
       "    <tr>\n",
       "      <th>4</th>\n",
       "      <td>Kaali Khuhi</td>\n",
       "      <td>Mystery</td>\n",
       "      <td>October 30, 2020</td>\n",
       "      <td>90</td>\n",
       "      <td>3.4</td>\n",
       "      <td>Hindi</td>\n",
       "      <td>Octo</td>\n",
       "    </tr>\n",
       "    <tr>\n",
       "      <th>...</th>\n",
       "      <td>...</td>\n",
       "      <td>...</td>\n",
       "      <td>...</td>\n",
       "      <td>...</td>\n",
       "      <td>...</td>\n",
       "      <td>...</td>\n",
       "      <td>...</td>\n",
       "    </tr>\n",
       "    <tr>\n",
       "      <th>579</th>\n",
       "      <td>Taylor Swift: Reputation Stadium Tour</td>\n",
       "      <td>Concert Film</td>\n",
       "      <td>December 31, 2018</td>\n",
       "      <td>125</td>\n",
       "      <td>8.4</td>\n",
       "      <td>English</td>\n",
       "      <td>Dece</td>\n",
       "    </tr>\n",
       "    <tr>\n",
       "      <th>580</th>\n",
       "      <td>Winter on Fire: Ukraine's Fight for Freedom</td>\n",
       "      <td>Documentary</td>\n",
       "      <td>October 9, 2015</td>\n",
       "      <td>91</td>\n",
       "      <td>8.4</td>\n",
       "      <td>English/Ukranian/Russian</td>\n",
       "      <td>Octo</td>\n",
       "    </tr>\n",
       "    <tr>\n",
       "      <th>581</th>\n",
       "      <td>Springsteen on Broadway</td>\n",
       "      <td>One-man show</td>\n",
       "      <td>December 16, 2018</td>\n",
       "      <td>153</td>\n",
       "      <td>8.5</td>\n",
       "      <td>English</td>\n",
       "      <td>Dece</td>\n",
       "    </tr>\n",
       "    <tr>\n",
       "      <th>582</th>\n",
       "      <td>Emicida: AmarElo - It's All For Yesterday</td>\n",
       "      <td>Documentary</td>\n",
       "      <td>December 8, 2020</td>\n",
       "      <td>89</td>\n",
       "      <td>8.6</td>\n",
       "      <td>Portuguese</td>\n",
       "      <td>Dece</td>\n",
       "    </tr>\n",
       "    <tr>\n",
       "      <th>583</th>\n",
       "      <td>David Attenborough: A Life on Our Planet</td>\n",
       "      <td>Documentary</td>\n",
       "      <td>October 4, 2020</td>\n",
       "      <td>83</td>\n",
       "      <td>9.0</td>\n",
       "      <td>English</td>\n",
       "      <td>Octo</td>\n",
       "    </tr>\n",
       "  </tbody>\n",
       "</table>\n",
       "<p>584 rows × 7 columns</p>\n",
       "</div>"
      ],
      "text/plain": [
       "                                           Title                  Genre  \\\n",
       "0                                Enter the Anime            Documentary   \n",
       "1                                    Dark Forces               Thriller   \n",
       "2                                        The App  Science fiction/Drama   \n",
       "3                                 The Open House        Horror thriller   \n",
       "4                                    Kaali Khuhi                Mystery   \n",
       "..                                           ...                    ...   \n",
       "579        Taylor Swift: Reputation Stadium Tour           Concert Film   \n",
       "580  Winter on Fire: Ukraine's Fight for Freedom            Documentary   \n",
       "581                      Springsteen on Broadway           One-man show   \n",
       "582    Emicida: AmarElo - It's All For Yesterday            Documentary   \n",
       "583     David Attenborough: A Life on Our Planet            Documentary   \n",
       "\n",
       "              Premiere  Runtime  IMDB Score                  Language  Year  \n",
       "0       August 5, 2019       58         2.5          English/Japanese  Augu  \n",
       "1      August 21, 2020       81         2.6                   Spanish  Augu  \n",
       "2    December 26, 2019       79         2.6                   Italian  Dece  \n",
       "3     January 19, 2018       94         3.2                   English  Janu  \n",
       "4     October 30, 2020       90         3.4                     Hindi  Octo  \n",
       "..                 ...      ...         ...                       ...   ...  \n",
       "579  December 31, 2018      125         8.4                   English  Dece  \n",
       "580    October 9, 2015       91         8.4  English/Ukranian/Russian  Octo  \n",
       "581  December 16, 2018      153         8.5                   English  Dece  \n",
       "582   December 8, 2020       89         8.6                Portuguese  Dece  \n",
       "583    October 4, 2020       83         9.0                   English  Octo  \n",
       "\n",
       "[584 rows x 7 columns]"
      ]
     },
     "execution_count": 30,
     "metadata": {},
     "output_type": "execute_result"
    }
   ],
   "source": [
    "df['Year'] = df['Premiere'].astype(str).str[:4]\n",
    "df"
   ]
  },
  {
   "cell_type": "code",
   "execution_count": 76,
   "id": "c9cd3b5c",
   "metadata": {},
   "outputs": [
    {
     "data": {
      "text/plain": [
       "(38,)"
      ]
     },
     "execution_count": 76,
     "metadata": {},
     "output_type": "execute_result"
    }
   ],
   "source": [
    "dataframe['Language'].unique().shape"
   ]
  },
  {
   "cell_type": "code",
   "execution_count": 77,
   "id": "6519722b",
   "metadata": {},
   "outputs": [
    {
     "data": {
      "text/plain": [
       "English                       401\n",
       "Hindi                          33\n",
       "Spanish                        31\n",
       "French                         20\n",
       "Italian                        14\n",
       "Portuguese                     12\n",
       "Indonesian                      9\n",
       "Japanese                        6\n",
       "Korean                          6\n",
       "German                          5\n",
       "Turkish                         5\n",
       "English/Spanish                 5\n",
       "Polish                          3\n",
       "Dutch                           3\n",
       "Marathi                         3\n",
       "English/Hindi                   2\n",
       "Thai                            2\n",
       "English/Mandarin                2\n",
       "English/Japanese                2\n",
       "Filipino                        2\n",
       "English/Russian                 1\n",
       "Bengali                         1\n",
       "English/Arabic                  1\n",
       "English/Korean                  1\n",
       "Spanish/English                 1\n",
       "Tamil                           1\n",
       "English/Akan                    1\n",
       "Khmer/English/French            1\n",
       "Swedish                         1\n",
       "Georgian                        1\n",
       "Thia/English                    1\n",
       "English/Taiwanese/Mandarin      1\n",
       "English/Swedish                 1\n",
       "Spanish/Catalan                 1\n",
       "Spanish/Basque                  1\n",
       "Norwegian                       1\n",
       "Malay                           1\n",
       "English/Ukranian/Russian        1\n",
       "Name: Language, dtype: int64"
      ]
     },
     "execution_count": 77,
     "metadata": {},
     "output_type": "execute_result"
    }
   ],
   "source": [
    "dataframe['Language'].value_counts()"
   ]
  },
  {
   "cell_type": "code",
   "execution_count": 78,
   "id": "73928a45",
   "metadata": {},
   "outputs": [
    {
     "data": {
      "text/plain": [
       "(115,)"
      ]
     },
     "execution_count": 78,
     "metadata": {},
     "output_type": "execute_result"
    }
   ],
   "source": [
    "dataframe['Genre'].unique().shape"
   ]
  },
  {
   "cell_type": "code",
   "execution_count": 80,
   "id": "926e0d89",
   "metadata": {},
   "outputs": [
    {
     "data": {
      "text/html": [
       "<div>\n",
       "<style scoped>\n",
       "    .dataframe tbody tr th:only-of-type {\n",
       "        vertical-align: middle;\n",
       "    }\n",
       "\n",
       "    .dataframe tbody tr th {\n",
       "        vertical-align: top;\n",
       "    }\n",
       "\n",
       "    .dataframe thead th {\n",
       "        text-align: right;\n",
       "    }\n",
       "</style>\n",
       "<table border=\"1\" class=\"dataframe\">\n",
       "  <thead>\n",
       "    <tr style=\"text-align: right;\">\n",
       "      <th></th>\n",
       "      <th>Title</th>\n",
       "      <th>Genre</th>\n",
       "      <th>Premiere</th>\n",
       "      <th>Runtime</th>\n",
       "      <th>IMDB Score</th>\n",
       "      <th>Language</th>\n",
       "    </tr>\n",
       "  </thead>\n",
       "  <tbody>\n",
       "    <tr>\n",
       "      <th>3</th>\n",
       "      <td>The Open House</td>\n",
       "      <td>Horror thriller</td>\n",
       "      <td>January 19, 2018</td>\n",
       "      <td>94</td>\n",
       "      <td>3.2</td>\n",
       "      <td>English</td>\n",
       "    </tr>\n",
       "    <tr>\n",
       "      <th>7</th>\n",
       "      <td>The Last Days of American Crime</td>\n",
       "      <td>Heist film/Thriller</td>\n",
       "      <td>June 5, 2020</td>\n",
       "      <td>149</td>\n",
       "      <td>3.7</td>\n",
       "      <td>English</td>\n",
       "    </tr>\n",
       "    <tr>\n",
       "      <th>8</th>\n",
       "      <td>Paradox</td>\n",
       "      <td>Musical/Western/Fantasy</td>\n",
       "      <td>March 23, 2018</td>\n",
       "      <td>73</td>\n",
       "      <td>3.9</td>\n",
       "      <td>English</td>\n",
       "    </tr>\n",
       "    <tr>\n",
       "      <th>10</th>\n",
       "      <td>Searching for Sheela</td>\n",
       "      <td>Documentary</td>\n",
       "      <td>April 22, 2021</td>\n",
       "      <td>58</td>\n",
       "      <td>4.1</td>\n",
       "      <td>English</td>\n",
       "    </tr>\n",
       "    <tr>\n",
       "      <th>14</th>\n",
       "      <td>Mercy</td>\n",
       "      <td>Thriller</td>\n",
       "      <td>November 22, 2016</td>\n",
       "      <td>90</td>\n",
       "      <td>4.2</td>\n",
       "      <td>English</td>\n",
       "    </tr>\n",
       "    <tr>\n",
       "      <th>...</th>\n",
       "      <td>...</td>\n",
       "      <td>...</td>\n",
       "      <td>...</td>\n",
       "      <td>...</td>\n",
       "      <td>...</td>\n",
       "      <td>...</td>\n",
       "    </tr>\n",
       "    <tr>\n",
       "      <th>577</th>\n",
       "      <td>Dancing with the Birds</td>\n",
       "      <td>Documentary</td>\n",
       "      <td>October 23, 2019</td>\n",
       "      <td>51</td>\n",
       "      <td>8.3</td>\n",
       "      <td>English</td>\n",
       "    </tr>\n",
       "    <tr>\n",
       "      <th>578</th>\n",
       "      <td>Ben Platt: Live from Radio City Music Hall</td>\n",
       "      <td>Concert Film</td>\n",
       "      <td>May 20, 2020</td>\n",
       "      <td>85</td>\n",
       "      <td>8.4</td>\n",
       "      <td>English</td>\n",
       "    </tr>\n",
       "    <tr>\n",
       "      <th>579</th>\n",
       "      <td>Taylor Swift: Reputation Stadium Tour</td>\n",
       "      <td>Concert Film</td>\n",
       "      <td>December 31, 2018</td>\n",
       "      <td>125</td>\n",
       "      <td>8.4</td>\n",
       "      <td>English</td>\n",
       "    </tr>\n",
       "    <tr>\n",
       "      <th>581</th>\n",
       "      <td>Springsteen on Broadway</td>\n",
       "      <td>One-man show</td>\n",
       "      <td>December 16, 2018</td>\n",
       "      <td>153</td>\n",
       "      <td>8.5</td>\n",
       "      <td>English</td>\n",
       "    </tr>\n",
       "    <tr>\n",
       "      <th>583</th>\n",
       "      <td>David Attenborough: A Life on Our Planet</td>\n",
       "      <td>Documentary</td>\n",
       "      <td>October 4, 2020</td>\n",
       "      <td>83</td>\n",
       "      <td>9.0</td>\n",
       "      <td>English</td>\n",
       "    </tr>\n",
       "  </tbody>\n",
       "</table>\n",
       "<p>401 rows × 6 columns</p>\n",
       "</div>"
      ],
      "text/plain": [
       "                                          Title                    Genre  \\\n",
       "3                                The Open House          Horror thriller   \n",
       "7               The Last Days of American Crime      Heist film/Thriller   \n",
       "8                                       Paradox  Musical/Western/Fantasy   \n",
       "10                         Searching for Sheela              Documentary   \n",
       "14                                        Mercy                 Thriller   \n",
       "..                                          ...                      ...   \n",
       "577                      Dancing with the Birds              Documentary   \n",
       "578  Ben Platt: Live from Radio City Music Hall             Concert Film   \n",
       "579       Taylor Swift: Reputation Stadium Tour             Concert Film   \n",
       "581                     Springsteen on Broadway             One-man show   \n",
       "583    David Attenborough: A Life on Our Planet              Documentary   \n",
       "\n",
       "              Premiere  Runtime  IMDB Score Language  \n",
       "3     January 19, 2018       94         3.2  English  \n",
       "7         June 5, 2020      149         3.7  English  \n",
       "8       March 23, 2018       73         3.9  English  \n",
       "10      April 22, 2021       58         4.1  English  \n",
       "14   November 22, 2016       90         4.2  English  \n",
       "..                 ...      ...         ...      ...  \n",
       "577   October 23, 2019       51         8.3  English  \n",
       "578       May 20, 2020       85         8.4  English  \n",
       "579  December 31, 2018      125         8.4  English  \n",
       "581  December 16, 2018      153         8.5  English  \n",
       "583    October 4, 2020       83         9.0  English  \n",
       "\n",
       "[401 rows x 6 columns]"
      ]
     },
     "execution_count": 80,
     "metadata": {},
     "output_type": "execute_result"
    }
   ],
   "source": [
    "dataframe[dataframe['Language']=='English']"
   ]
  },
  {
   "cell_type": "code",
   "execution_count": 81,
   "id": "65fd08b8",
   "metadata": {},
   "outputs": [
    {
     "data": {
      "text/html": [
       "<div>\n",
       "<style scoped>\n",
       "    .dataframe tbody tr th:only-of-type {\n",
       "        vertical-align: middle;\n",
       "    }\n",
       "\n",
       "    .dataframe tbody tr th {\n",
       "        vertical-align: top;\n",
       "    }\n",
       "\n",
       "    .dataframe thead th {\n",
       "        text-align: right;\n",
       "    }\n",
       "</style>\n",
       "<table border=\"1\" class=\"dataframe\">\n",
       "  <thead>\n",
       "    <tr style=\"text-align: right;\">\n",
       "      <th></th>\n",
       "      <th>Genre</th>\n",
       "      <th>IMDB Score</th>\n",
       "    </tr>\n",
       "  </thead>\n",
       "  <tbody>\n",
       "    <tr>\n",
       "      <th>0</th>\n",
       "      <td>Documentary</td>\n",
       "      <td>2.5</td>\n",
       "    </tr>\n",
       "    <tr>\n",
       "      <th>1</th>\n",
       "      <td>Thriller</td>\n",
       "      <td>2.6</td>\n",
       "    </tr>\n",
       "    <tr>\n",
       "      <th>2</th>\n",
       "      <td>Science fiction/Drama</td>\n",
       "      <td>2.6</td>\n",
       "    </tr>\n",
       "    <tr>\n",
       "      <th>3</th>\n",
       "      <td>Horror thriller</td>\n",
       "      <td>3.2</td>\n",
       "    </tr>\n",
       "    <tr>\n",
       "      <th>4</th>\n",
       "      <td>Mystery</td>\n",
       "      <td>3.4</td>\n",
       "    </tr>\n",
       "    <tr>\n",
       "      <th>...</th>\n",
       "      <td>...</td>\n",
       "      <td>...</td>\n",
       "    </tr>\n",
       "    <tr>\n",
       "      <th>579</th>\n",
       "      <td>Concert Film</td>\n",
       "      <td>8.4</td>\n",
       "    </tr>\n",
       "    <tr>\n",
       "      <th>580</th>\n",
       "      <td>Documentary</td>\n",
       "      <td>8.4</td>\n",
       "    </tr>\n",
       "    <tr>\n",
       "      <th>581</th>\n",
       "      <td>One-man show</td>\n",
       "      <td>8.5</td>\n",
       "    </tr>\n",
       "    <tr>\n",
       "      <th>582</th>\n",
       "      <td>Documentary</td>\n",
       "      <td>8.6</td>\n",
       "    </tr>\n",
       "    <tr>\n",
       "      <th>583</th>\n",
       "      <td>Documentary</td>\n",
       "      <td>9.0</td>\n",
       "    </tr>\n",
       "  </tbody>\n",
       "</table>\n",
       "<p>584 rows × 2 columns</p>\n",
       "</div>"
      ],
      "text/plain": [
       "                     Genre  IMDB Score\n",
       "0              Documentary         2.5\n",
       "1                 Thriller         2.6\n",
       "2    Science fiction/Drama         2.6\n",
       "3          Horror thriller         3.2\n",
       "4                  Mystery         3.4\n",
       "..                     ...         ...\n",
       "579           Concert Film         8.4\n",
       "580            Documentary         8.4\n",
       "581           One-man show         8.5\n",
       "582            Documentary         8.6\n",
       "583            Documentary         9.0\n",
       "\n",
       "[584 rows x 2 columns]"
      ]
     },
     "execution_count": 81,
     "metadata": {},
     "output_type": "execute_result"
    }
   ],
   "source": [
    "dataframe[['Genre', 'IMDB Score']]"
   ]
  },
  {
   "cell_type": "code",
   "execution_count": 82,
   "id": "cd426540",
   "metadata": {},
   "outputs": [
    {
     "data": {
      "text/plain": [
       "(33, 6)"
      ]
     },
     "execution_count": 82,
     "metadata": {},
     "output_type": "execute_result"
    }
   ],
   "source": [
    "dataframe[dataframe['Genre']=='Thriller'].shape"
   ]
  },
  {
   "cell_type": "code",
   "execution_count": 84,
   "id": "671bf85a",
   "metadata": {},
   "outputs": [
    {
     "data": {
      "text/plain": [
       "(159, 6)"
      ]
     },
     "execution_count": 84,
     "metadata": {},
     "output_type": "execute_result"
    }
   ],
   "source": [
    "dataframe[dataframe['Genre']=='Documentary'].shape"
   ]
  },
  {
   "cell_type": "code",
   "execution_count": 90,
   "id": "d35fb4d7",
   "metadata": {},
   "outputs": [
    {
     "data": {
      "text/plain": [
       "(401, 6)"
      ]
     },
     "execution_count": 90,
     "metadata": {},
     "output_type": "execute_result"
    }
   ],
   "source": [
    "dataframe[dataframe['Language']=='English'].shape"
   ]
  },
  {
   "cell_type": "code",
   "execution_count": 86,
   "id": "fb8ea782",
   "metadata": {},
   "outputs": [
    {
     "data": {
      "text/plain": [
       "(2, 6)"
      ]
     },
     "execution_count": 86,
     "metadata": {},
     "output_type": "execute_result"
    }
   ],
   "source": [
    "dataframe[dataframe['Genre']=='Mystery'].shape"
   ]
  },
  {
   "cell_type": "code",
   "execution_count": 91,
   "id": "ce119989",
   "metadata": {},
   "outputs": [
    {
     "data": {
      "text/plain": [
       "(31, 6)"
      ]
     },
     "execution_count": 91,
     "metadata": {},
     "output_type": "execute_result"
    }
   ],
   "source": [
    "dataframe[dataframe['Language']=='Spanish'].shape"
   ]
  },
  {
   "cell_type": "code",
   "execution_count": 92,
   "id": "a9ebb647",
   "metadata": {},
   "outputs": [
    {
     "data": {
      "text/plain": [
       "(20, 6)"
      ]
     },
     "execution_count": 92,
     "metadata": {},
     "output_type": "execute_result"
    }
   ],
   "source": [
    "dataframe[dataframe['Language']=='French'].shape"
   ]
  },
  {
   "cell_type": "code",
   "execution_count": 93,
   "id": "08109f1d",
   "metadata": {},
   "outputs": [],
   "source": [
    "Top_rated_movies=dataframe[(dataframe['IMDB Score']>=8.0)]"
   ]
  },
  {
   "cell_type": "code",
   "execution_count": 95,
   "id": "ed7bcb1f",
   "metadata": {},
   "outputs": [
    {
     "data": {
      "text/plain": [
       "Title                                        Language                  Genre       \n",
       "Taylor Swift: Reputation Stadium Tour        English                   Concert Film    8.4\n",
       "Winter on Fire: Ukraine's Fight for Freedom  English/Ukranian/Russian  Documentary     8.4\n",
       "Springsteen on Broadway                      English                   One-man show    8.5\n",
       "Emicida: AmarElo - It's All For Yesterday    Portuguese                Documentary     8.6\n",
       "David Attenborough: A Life on Our Planet     English                   Documentary     9.0\n",
       "Name: IMDB Score, dtype: float64"
      ]
     },
     "execution_count": 95,
     "metadata": {},
     "output_type": "execute_result"
    }
   ],
   "source": [
    "Top_rated_movies.groupby(['Title','Language', 'Genre']) ['IMDB Score'].sum().sort_values(ascending=True).tail(5)"
   ]
  },
  {
   "cell_type": "code",
   "execution_count": 96,
   "id": "27c9ca20",
   "metadata": {},
   "outputs": [],
   "source": [
    "Top_rated_movies=dataframe[(dataframe['IMDB Score']<=8.0)]"
   ]
  },
  {
   "cell_type": "code",
   "execution_count": 97,
   "id": "8c326108",
   "metadata": {},
   "outputs": [
    {
     "data": {
      "text/plain": [
       "Title                                         Language  Genre      \n",
       "Icarus                                        English   Documentary    7.9\n",
       "Marriage Story                                English   Drama          7.9\n",
       "A Secret Love                                 English   Documentary    7.9\n",
       "The Ivory Game                                English   Documentary    7.9\n",
       "Struggle: The Life and Lost Art of Szukaiski  English   Documentary    8.0\n",
       "Name: IMDB Score, dtype: float64"
      ]
     },
     "execution_count": 97,
     "metadata": {},
     "output_type": "execute_result"
    }
   ],
   "source": [
    "Top_rated_movies.groupby(['Title','Language', 'Genre']) ['IMDB Score'].sum().sort_values(ascending=True).tail(5)"
   ]
  },
  {
   "cell_type": "code",
   "execution_count": 98,
   "id": "bb8335f1",
   "metadata": {},
   "outputs": [
    {
     "data": {
      "text/plain": [
       "array(['English/Japanese', 'Spanish', 'Italian', 'English', 'Hindi',\n",
       "       'Turkish', 'Korean', 'Indonesian', 'Malay', 'Dutch', 'French',\n",
       "       'English/Spanish', 'Portuguese', 'Filipino', 'German', 'Polish',\n",
       "       'Norwegian', 'Marathi', 'Thai', 'Swedish', 'Japanese',\n",
       "       'Spanish/Basque', 'Spanish/Catalan', 'English/Swedish',\n",
       "       'English/Taiwanese/Mandarin', 'Thia/English', 'English/Mandarin',\n",
       "       'Georgian', 'Bengali', 'Khmer/English/French', 'English/Hindi',\n",
       "       'Tamil', 'Spanish/English', 'English/Korean', 'English/Arabic',\n",
       "       'English/Russian', 'English/Akan', 'English/Ukranian/Russian'],\n",
       "      dtype=object)"
      ]
     },
     "execution_count": 98,
     "metadata": {},
     "output_type": "execute_result"
    }
   ],
   "source": [
    "dataframe['Language'].unique()"
   ]
  },
  {
   "cell_type": "code",
   "execution_count": 99,
   "id": "cc4593d3",
   "metadata": {},
   "outputs": [
    {
     "data": {
      "text/plain": [
       "English                       401\n",
       "Hindi                          33\n",
       "Spanish                        31\n",
       "French                         20\n",
       "Italian                        14\n",
       "Portuguese                     12\n",
       "Indonesian                      9\n",
       "Japanese                        6\n",
       "Korean                          6\n",
       "German                          5\n",
       "Turkish                         5\n",
       "English/Spanish                 5\n",
       "Polish                          3\n",
       "Dutch                           3\n",
       "Marathi                         3\n",
       "English/Hindi                   2\n",
       "Thai                            2\n",
       "English/Mandarin                2\n",
       "English/Japanese                2\n",
       "Filipino                        2\n",
       "English/Russian                 1\n",
       "Bengali                         1\n",
       "English/Arabic                  1\n",
       "English/Korean                  1\n",
       "Spanish/English                 1\n",
       "Tamil                           1\n",
       "English/Akan                    1\n",
       "Khmer/English/French            1\n",
       "Swedish                         1\n",
       "Georgian                        1\n",
       "Thia/English                    1\n",
       "English/Taiwanese/Mandarin      1\n",
       "English/Swedish                 1\n",
       "Spanish/Catalan                 1\n",
       "Spanish/Basque                  1\n",
       "Norwegian                       1\n",
       "Malay                           1\n",
       "English/Ukranian/Russian        1\n",
       "Name: Language, dtype: int64"
      ]
     },
     "execution_count": 99,
     "metadata": {},
     "output_type": "execute_result"
    }
   ],
   "source": [
    "dataframe['Language'].value_counts()"
   ]
  },
  {
   "cell_type": "code",
   "execution_count": 100,
   "id": "9900a0a0",
   "metadata": {},
   "outputs": [
    {
     "data": {
      "text/plain": [
       "Documentary                             159\n",
       "Drama                                    77\n",
       "Comedy                                   49\n",
       "Romantic comedy                          39\n",
       "Thriller                                 33\n",
       "                                       ... \n",
       "Romantic comedy-drama                     1\n",
       "Heist film/Thriller                       1\n",
       "Musical/Western/Fantasy                   1\n",
       "Horror anthology                          1\n",
       "Animation/Christmas/Comedy/Adventure      1\n",
       "Name: Genre, Length: 115, dtype: int64"
      ]
     },
     "execution_count": 100,
     "metadata": {},
     "output_type": "execute_result"
    }
   ],
   "source": [
    "dataframe['Genre'].value_counts()"
   ]
  },
  {
   "cell_type": "code",
   "execution_count": 101,
   "id": "11692688",
   "metadata": {},
   "outputs": [],
   "source": [
    "most_premiered_movie_year=dataframe.groupby(['Premiere','Language', 'Genre']) ['Premiere'].count().sort_values(ascending=True)"
   ]
  },
  {
   "cell_type": "code",
   "execution_count": 102,
   "id": "fc03f136",
   "metadata": {},
   "outputs": [
    {
     "data": {
      "text/plain": [
       "Premiere          Language  Genre      \n",
       "October 12, 2018  English   Documentary    2\n",
       "March 8, 2019     English   Drama          2\n",
       "November 2, 2018  English   Documentary    2\n",
       "December 7, 2018  English   Documentary    2\n",
       "April 27, 2018    English   Comedy         2\n",
       "Name: Premiere, dtype: int64"
      ]
     },
     "execution_count": 102,
     "metadata": {},
     "output_type": "execute_result"
    }
   ],
   "source": [
    "most_premiered_movie_year.tail()"
   ]
  },
  {
   "cell_type": "code",
   "execution_count": 103,
   "id": "4699c51f",
   "metadata": {},
   "outputs": [
    {
     "data": {
      "text/plain": [
       "<AxesSubplot:xlabel='Runtime', ylabel='Density'>"
      ]
     },
     "execution_count": 103,
     "metadata": {},
     "output_type": "execute_result"
    },
    {
     "data": {
      "image/png": "[encoded data removed]",
      "text/plain": [
       "<Figure size 864x576 with 1 Axes>"
      ]
     },
     "metadata": {},
     "output_type": "display_data"
    }
   ],
   "source": [
    "#A Kernel Density Estimate (KDE) Plot is used to plot the distribution of continuous data.\n",
    "sns.kdeplot(x='Runtime', data = dataframe, color = 'red')"
   ]
  },
  {
   "cell_type": "code",
   "execution_count": null,
   "id": "87f40496",
   "metadata": {},
   "outputs": [],
   "source": []
  }
 ],
 "metadata": {
  "kernelspec": {
   "display_name": "Python 3 (ipykernel)",
   "language": "python",
   "name": "python3"
  },
  "language_info": {
   "codemirror_mode": {
    "name": "ipython",
    "version": 3
   },
   "file_extension": ".py",
   "mimetype": "text/x-python",
   "name": "python",
   "nbconvert_exporter": "python",
   "pygments_lexer": "ipython3",
   "version": "3.9.7"
  }
 },
 "nbformat": 4,
 "nbformat_minor": 5
}
