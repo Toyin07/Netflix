{
 "cells": [
  {
   "cell_type": "code",
   "execution_count": 6,
   "id": "6e377841",
   "metadata": {},
   "outputs": [],
   "source": [
    "import pandas as pd\n",
    "import numpy as np\n",
    "import seaborn as sns\n",
    "\n",
    "import matplotlib.pyplot as plt\n",
    "import matplotlib.mlab as mlab\n",
    "import matplotlib\n",
    "plt.style.use('ggplot')\n",
    "from matplotlib.pyplot import figure\n",
    "\n",
    "%matplotlib inline\n",
    "matplotlib.rcParams['figure.figsize'] = (12,8)\n",
    "\n",
    "pd.options.mode.chained_assignment = None\n",
    "\n"
   ]
  },
  {
   "cell_type": "code",
   "execution_count": 10,
   "id": "1ac41cac",
   "metadata": {},
   "outputs": [],
   "source": [
    "netflix_data = r'C:\\Users\\Oluwatoyin\\OneDrive - House on the Rock\\Documents\\NetflixOriginals.csv'"
   ]
  },
  {
   "cell_type": "code",
   "execution_count": 11,
   "id": "4b68df51",
   "metadata": {},
   "outputs": [],
   "source": [
    "df = pd.read_csv(netflix_data)"
   ]
  },
  {
   "cell_type": "code",
   "execution_count": 12,
   "id": "49b2eb9e",
   "metadata": {},
   "outputs": [
    {
     "data": {
      "text/html": [
       "<div>\n",
       "<style scoped>\n",
       "    .dataframe tbody tr th:only-of-type {\n",
       "        vertical-align: middle;\n",
       "    }\n",
       "\n",
       "    .dataframe tbody tr th {\n",
       "        vertical-align: top;\n",
       "    }\n",
       "\n",
       "    .dataframe thead th {\n",
       "        text-align: right;\n",
       "    }\n",
       "</style>\n",
       "<table border=\"1\" class=\"dataframe\">\n",
       "  <thead>\n",
       "    <tr style=\"text-align: right;\">\n",
       "      <th></th>\n",
       "      <th>Title</th>\n",
       "      <th>Genre</th>\n",
       "      <th>Premiere</th>\n",
       "      <th>Runtime</th>\n",
       "      <th>IMDB Score</th>\n",
       "      <th>Language</th>\n",
       "    </tr>\n",
       "  </thead>\n",
       "  <tbody>\n",
       "    <tr>\n",
       "      <th>0</th>\n",
       "      <td>Enter the Anime</td>\n",
       "      <td>Documentary</td>\n",
       "      <td>August 5, 2019</td>\n",
       "      <td>58</td>\n",
       "      <td>2.5</td>\n",
       "      <td>English/Japanese</td>\n",
       "    </tr>\n",
       "    <tr>\n",
       "      <th>1</th>\n",
       "      <td>Dark Forces</td>\n",
       "      <td>Thriller</td>\n",
       "      <td>August 21, 2020</td>\n",
       "      <td>81</td>\n",
       "      <td>2.6</td>\n",
       "      <td>Spanish</td>\n",
       "    </tr>\n",
       "    <tr>\n",
       "      <th>2</th>\n",
       "      <td>The App</td>\n",
       "      <td>Science fiction/Drama</td>\n",
       "      <td>December 26, 2019</td>\n",
       "      <td>79</td>\n",
       "      <td>2.6</td>\n",
       "      <td>Italian</td>\n",
       "    </tr>\n",
       "    <tr>\n",
       "      <th>3</th>\n",
       "      <td>The Open House</td>\n",
       "      <td>Horror thriller</td>\n",
       "      <td>January 19, 2018</td>\n",
       "      <td>94</td>\n",
       "      <td>3.2</td>\n",
       "      <td>English</td>\n",
       "    </tr>\n",
       "    <tr>\n",
       "      <th>4</th>\n",
       "      <td>Kaali Khuhi</td>\n",
       "      <td>Mystery</td>\n",
       "      <td>October 30, 2020</td>\n",
       "      <td>90</td>\n",
       "      <td>3.4</td>\n",
       "      <td>Hindi</td>\n",
       "    </tr>\n",
       "    <tr>\n",
       "      <th>...</th>\n",
       "      <td>...</td>\n",
       "      <td>...</td>\n",
       "      <td>...</td>\n",
       "      <td>...</td>\n",
       "      <td>...</td>\n",
       "      <td>...</td>\n",
       "    </tr>\n",
       "    <tr>\n",
       "      <th>579</th>\n",
       "      <td>Taylor Swift: Reputation Stadium Tour</td>\n",
       "      <td>Concert Film</td>\n",
       "      <td>December 31, 2018</td>\n",
       "      <td>125</td>\n",
       "      <td>8.4</td>\n",
       "      <td>English</td>\n",
       "    </tr>\n",
       "    <tr>\n",
       "      <th>580</th>\n",
       "      <td>Winter on Fire: Ukraine's Fight for Freedom</td>\n",
       "      <td>Documentary</td>\n",
       "      <td>October 9, 2015</td>\n",
       "      <td>91</td>\n",
       "      <td>8.4</td>\n",
       "      <td>English/Ukranian/Russian</td>\n",
       "    </tr>\n",
       "    <tr>\n",
       "      <th>581</th>\n",
       "      <td>Springsteen on Broadway</td>\n",
       "      <td>One-man show</td>\n",
       "      <td>December 16, 2018</td>\n",
       "      <td>153</td>\n",
       "      <td>8.5</td>\n",
       "      <td>English</td>\n",
       "    </tr>\n",
       "    <tr>\n",
       "      <th>582</th>\n",
       "      <td>Emicida: AmarElo - It's All For Yesterday</td>\n",
       "      <td>Documentary</td>\n",
       "      <td>December 8, 2020</td>\n",
       "      <td>89</td>\n",
       "      <td>8.6</td>\n",
       "      <td>Portuguese</td>\n",
       "    </tr>\n",
       "    <tr>\n",
       "      <th>583</th>\n",
       "      <td>David Attenborough: A Life on Our Planet</td>\n",
       "      <td>Documentary</td>\n",
       "      <td>October 4, 2020</td>\n",
       "      <td>83</td>\n",
       "      <td>9.0</td>\n",
       "      <td>English</td>\n",
       "    </tr>\n",
       "  </tbody>\n",
       "</table>\n",
       "<p>584 rows × 6 columns</p>\n",
       "</div>"
      ],
      "text/plain": [
       "                                           Title                  Genre  \\\n",
       "0                                Enter the Anime            Documentary   \n",
       "1                                    Dark Forces               Thriller   \n",
       "2                                        The App  Science fiction/Drama   \n",
       "3                                 The Open House        Horror thriller   \n",
       "4                                    Kaali Khuhi                Mystery   \n",
       "..                                           ...                    ...   \n",
       "579        Taylor Swift: Reputation Stadium Tour           Concert Film   \n",
       "580  Winter on Fire: Ukraine's Fight for Freedom            Documentary   \n",
       "581                      Springsteen on Broadway           One-man show   \n",
       "582    Emicida: AmarElo - It's All For Yesterday            Documentary   \n",
       "583     David Attenborough: A Life on Our Planet            Documentary   \n",
       "\n",
       "              Premiere  Runtime  IMDB Score                  Language  \n",
       "0       August 5, 2019       58         2.5          English/Japanese  \n",
       "1      August 21, 2020       81         2.6                   Spanish  \n",
       "2    December 26, 2019       79         2.6                   Italian  \n",
       "3     January 19, 2018       94         3.2                   English  \n",
       "4     October 30, 2020       90         3.4                     Hindi  \n",
       "..                 ...      ...         ...                       ...  \n",
       "579  December 31, 2018      125         8.4                   English  \n",
       "580    October 9, 2015       91         8.4  English/Ukranian/Russian  \n",
       "581  December 16, 2018      153         8.5                   English  \n",
       "582   December 8, 2020       89         8.6                Portuguese  \n",
       "583    October 4, 2020       83         9.0                   English  \n",
       "\n",
       "[584 rows x 6 columns]"
      ]
     },
     "execution_count": 12,
     "metadata": {},
     "output_type": "execute_result"
    }
   ],
   "source": [
    "df"
   ]
  },
  {
   "cell_type": "code",
   "execution_count": 13,
   "id": "7f6fc43b",
   "metadata": {},
   "outputs": [
    {
     "name": "stdout",
     "output_type": "stream",
     "text": [
      "['Title', 'Genre', 'Premiere', 'Runtime', 'IMDB Score', 'Language']\n"
     ]
    }
   ],
   "source": [
    "print(list(df.columns))"
   ]
  },
  {
   "cell_type": "code",
   "execution_count": 14,
   "id": "f9da3551",
   "metadata": {},
   "outputs": [
    {
     "name": "stdout",
     "output_type": "stream",
     "text": [
      "Number of rows:  584\n"
     ]
    }
   ],
   "source": [
    "print(\"Number of rows: \", len(df))"
   ]
  },
  {
   "cell_type": "code",
   "execution_count": 15,
   "id": "e719d1ef",
   "metadata": {},
   "outputs": [
    {
     "name": "stdout",
     "output_type": "stream",
     "text": [
      "             Title                  Genre           Premiere  Runtime  \\\n",
      "0  Enter the Anime            Documentary     August 5, 2019       58   \n",
      "1      Dark Forces               Thriller    August 21, 2020       81   \n",
      "2          The App  Science fiction/Drama  December 26, 2019       79   \n",
      "3   The Open House        Horror thriller   January 19, 2018       94   \n",
      "4      Kaali Khuhi                Mystery   October 30, 2020       90   \n",
      "\n",
      "   IMDB Score          Language  \n",
      "0         2.5  English/Japanese  \n",
      "1         2.6           Spanish  \n",
      "2         2.6           Italian  \n",
      "3         3.2           English  \n",
      "4         3.4             Hindi  \n"
     ]
    }
   ],
   "source": [
    "print(df.head())"
   ]
  },
  {
   "cell_type": "code",
   "execution_count": 20,
   "id": "6336dce1",
   "metadata": {},
   "outputs": [
    {
     "name": "stdout",
     "output_type": "stream",
     "text": [
      "{4, 7, 9, 10, 11, 12, 13, 14, 15, 16, 17, 19, 21, 23, 24, 25, 26, 27, 28, 30, 31, 32, 34, 36, 37, 39, 40, 41, 42, 44, 45, 46, 47, 48, 49, 51, 52, 53, 54, 55, 56, 57, 58, 60, 63, 64, 70, 71, 72, 73, 74, 75, 76, 78, 79, 80, 81, 82, 83, 84, 85, 86, 87, 88, 89, 90, 91, 92, 93, 94, 95, 96, 97, 98, 99, 100, 101, 102, 103, 104, 105, 106, 107, 108, 109, 110, 111, 112, 113, 114, 115, 116, 117, 118, 119, 120, 121, 122, 123, 124, 125, 126, 128, 129, 130, 131, 132, 133, 134, 135, 136, 137, 138, 139, 140, 142, 144, 147, 148, 149, 151, 153, 155, 209}\n"
     ]
    }
   ],
   "source": [
    "print(set(df['Runtime']))"
   ]
  },
  {
   "cell_type": "code",
   "execution_count": 21,
   "id": "6f8565b8",
   "metadata": {},
   "outputs": [],
   "source": [
    "def return_statistics(data_frame, categorical_column, numerical_column):\n",
    "    mean = []\n",
    "    std = []\n",
    "    field = []\n",
    "    for i in set(list(data_frame[categorical_column].values)):\n",
    "        new_data = data_frame[data_frame[categorical_column] == i]\n",
    "        field.append(i)\n",
    "        mean.append(new_data[numerical_column].mean())\n",
    "        std.append(new_data[numerical_column].std())\n",
    "    df = pd.DataFrame({'{}'.format(categorical_column): field, 'mean {}'.format(numerical_column): mean, 'std in {}'.format(numerical_column): std})\n",
    "    df.sort_values('mean {}'.format(numerical_column), inplace = True, ascending = False)\n",
    "    df.dropna(inplace = True)\n",
    "    return df"
   ]
  },
  {
   "cell_type": "code",
   "execution_count": 22,
   "id": "5666d5b2",
   "metadata": {},
   "outputs": [
    {
     "name": "stdout",
     "output_type": "stream",
     "text": [
      "                     Genre  mean Runtime  std in Runtime\n",
      "93               War drama    145.500000       13.435029\n",
      "59  Psychological thriller    124.000000       17.048949\n",
      "85            Spy thriller    122.000000       11.313708\n",
      "98         Action-thriller    119.666667        6.110101\n",
      "41             Crime drama    118.181818       32.263968\n",
      "44          Musical comedy    117.500000        7.778175\n",
      "11                 Western    116.666667       16.623277\n",
      "39                 Musical    116.000000       22.627417\n",
      "55                  Family    112.500000       14.849242\n",
      "66         Science fiction    110.750000       21.061418\n",
      "87                     War    110.500000        3.535534\n",
      "68         Horror-thriller    109.500000       27.577164\n",
      "35          Romantic drama    108.200000        6.140033\n",
      "43                  Action    108.000000       26.312228\n",
      "23                  Biopic    107.555556       13.258121\n"
     ]
    }
   ],
   "source": [
    "stats = return_statistics(df, 'Genre', 'Runtime')\n",
    "print(stats.head(15))"
   ]
  },
  {
   "cell_type": "code",
   "execution_count": 23,
   "id": "4fc2d102",
   "metadata": {},
   "outputs": [],
   "source": [
    "def get_boxplot_of_categories(data_frame, categorical_column, numerical_column, limit):\n",
    "    import seaborn as sns\n",
    "    from collections import Counter\n",
    "    keys = []\n",
    "    for i in dict(Counter(df[categorical_column].values).most_common(limit)):\n",
    "        keys.append(i)\n",
    "    print(keys)\n",
    "    df_new = df[df[categorical_column].isin(keys)]\n",
    "    sns.set()\n",
    "    sns.boxplot(x = df_new[categorical_column], y =      df_new[numerical_column])"
   ]
  },
  {
   "cell_type": "code",
   "execution_count": 25,
   "id": "57ce464e",
   "metadata": {},
   "outputs": [
    {
     "name": "stdout",
     "output_type": "stream",
     "text": [
      "['Documentary', 'Drama', 'Comedy', 'Romantic comedy', 'Thriller']\n"
     ]
    },
    {
     "data": {
      "image/png": "[encoded data removed]",
      "text/plain": [
       "<Figure size 864x576 with 1 Axes>"
      ]
     },
     "metadata": {},
     "output_type": "display_data"
    }
   ],
   "source": [
    "get_boxplot_of_categories(df, 'Genre', 'Runtime', 5)"
   ]
  },
  {
   "cell_type": "code",
   "execution_count": 26,
   "id": "6ea2c015",
   "metadata": {},
   "outputs": [],
   "source": [
    "def get_histogram(data_frame, numerical_column):\n",
    "    df_new = data_frame\n",
    "    df_new[numerical_column].hist(bins=100)"
   ]
  },
  {
   "cell_type": "code",
   "execution_count": 27,
   "id": "5105be84",
   "metadata": {},
   "outputs": [
    {
     "data": {
      "image/png": "[encoded data removed]",
      "text/plain": [
       "<Figure size 864x576 with 1 Axes>"
      ]
     },
     "metadata": {},
     "output_type": "display_data"
    }
   ],
   "source": [
    "get_histogram(df, 'Runtime')"
   ]
  },
  {
   "cell_type": "code",
   "execution_count": 30,
   "id": "070d8321",
   "metadata": {},
   "outputs": [
    {
     "data": {
      "text/html": [
       "<div>\n",
       "<style scoped>\n",
       "    .dataframe tbody tr th:only-of-type {\n",
       "        vertical-align: middle;\n",
       "    }\n",
       "\n",
       "    .dataframe tbody tr th {\n",
       "        vertical-align: top;\n",
       "    }\n",
       "\n",
       "    .dataframe thead th {\n",
       "        text-align: right;\n",
       "    }\n",
       "</style>\n",
       "<table border=\"1\" class=\"dataframe\">\n",
       "  <thead>\n",
       "    <tr style=\"text-align: right;\">\n",
       "      <th></th>\n",
       "      <th>Title</th>\n",
       "      <th>Genre</th>\n",
       "      <th>Premiere</th>\n",
       "      <th>Runtime</th>\n",
       "      <th>IMDB Score</th>\n",
       "      <th>Language</th>\n",
       "      <th>Year</th>\n",
       "    </tr>\n",
       "  </thead>\n",
       "  <tbody>\n",
       "    <tr>\n",
       "      <th>0</th>\n",
       "      <td>Enter the Anime</td>\n",
       "      <td>Documentary</td>\n",
       "      <td>August 5, 2019</td>\n",
       "      <td>58</td>\n",
       "      <td>2.5</td>\n",
       "      <td>English/Japanese</td>\n",
       "      <td>Augu</td>\n",
       "    </tr>\n",
       "    <tr>\n",
       "      <th>1</th>\n",
       "      <td>Dark Forces</td>\n",
       "      <td>Thriller</td>\n",
       "      <td>August 21, 2020</td>\n",
       "      <td>81</td>\n",
       "      <td>2.6</td>\n",
       "      <td>Spanish</td>\n",
       "      <td>Augu</td>\n",
       "    </tr>\n",
       "    <tr>\n",
       "      <th>2</th>\n",
       "      <td>The App</td>\n",
       "      <td>Science fiction/Drama</td>\n",
       "      <td>December 26, 2019</td>\n",
       "      <td>79</td>\n",
       "      <td>2.6</td>\n",
       "      <td>Italian</td>\n",
       "      <td>Dece</td>\n",
       "    </tr>\n",
       "    <tr>\n",
       "      <th>3</th>\n",
       "      <td>The Open House</td>\n",
       "      <td>Horror thriller</td>\n",
       "      <td>January 19, 2018</td>\n",
       "      <td>94</td>\n",
       "      <td>3.2</td>\n",
       "      <td>English</td>\n",
       "      <td>Janu</td>\n",
       "    </tr>\n",
       "    <tr>\n",
       "      <th>4</th>\n",
       "      <td>Kaali Khuhi</td>\n",
       "      <td>Mystery</td>\n",
       "      <td>October 30, 2020</td>\n",
       "      <td>90</td>\n",
       "      <td>3.4</td>\n",
       "      <td>Hindi</td>\n",
       "      <td>Octo</td>\n",
       "    </tr>\n",
       "    <tr>\n",
       "      <th>...</th>\n",
       "      <td>...</td>\n",
       "      <td>...</td>\n",
       "      <td>...</td>\n",
       "      <td>...</td>\n",
       "      <td>...</td>\n",
       "      <td>...</td>\n",
       "      <td>...</td>\n",
       "    </tr>\n",
       "    <tr>\n",
       "      <th>579</th>\n",
       "      <td>Taylor Swift: Reputation Stadium Tour</td>\n",
       "      <td>Concert Film</td>\n",
       "      <td>December 31, 2018</td>\n",
       "      <td>125</td>\n",
       "      <td>8.4</td>\n",
       "      <td>English</td>\n",
       "      <td>Dece</td>\n",
       "    </tr>\n",
       "    <tr>\n",
       "      <th>580</th>\n",
       "      <td>Winter on Fire: Ukraine's Fight for Freedom</td>\n",
       "      <td>Documentary</td>\n",
       "      <td>October 9, 2015</td>\n",
       "      <td>91</td>\n",
       "      <td>8.4</td>\n",
       "      <td>English/Ukranian/Russian</td>\n",
       "      <td>Octo</td>\n",
       "    </tr>\n",
       "    <tr>\n",
       "      <th>581</th>\n",
       "      <td>Springsteen on Broadway</td>\n",
       "      <td>One-man show</td>\n",
       "      <td>December 16, 2018</td>\n",
       "      <td>153</td>\n",
       "      <td>8.5</td>\n",
       "      <td>English</td>\n",
       "      <td>Dece</td>\n",
       "    </tr>\n",
       "    <tr>\n",
       "      <th>582</th>\n",
       "      <td>Emicida: AmarElo - It's All For Yesterday</td>\n",
       "      <td>Documentary</td>\n",
       "      <td>December 8, 2020</td>\n",
       "      <td>89</td>\n",
       "      <td>8.6</td>\n",
       "      <td>Portuguese</td>\n",
       "      <td>Dece</td>\n",
       "    </tr>\n",
       "    <tr>\n",
       "      <th>583</th>\n",
       "      <td>David Attenborough: A Life on Our Planet</td>\n",
       "      <td>Documentary</td>\n",
       "      <td>October 4, 2020</td>\n",
       "      <td>83</td>\n",
       "      <td>9.0</td>\n",
       "      <td>English</td>\n",
       "      <td>Octo</td>\n",
       "    </tr>\n",
       "  </tbody>\n",
       "</table>\n",
       "<p>584 rows × 7 columns</p>\n",
       "</div>"
      ],
      "text/plain": [
       "                                           Title                  Genre  \\\n",
       "0                                Enter the Anime            Documentary   \n",
       "1                                    Dark Forces               Thriller   \n",
       "2                                        The App  Science fiction/Drama   \n",
       "3                                 The Open House        Horror thriller   \n",
       "4                                    Kaali Khuhi                Mystery   \n",
       "..                                           ...                    ...   \n",
       "579        Taylor Swift: Reputation Stadium Tour           Concert Film   \n",
       "580  Winter on Fire: Ukraine's Fight for Freedom            Documentary   \n",
       "581                      Springsteen on Broadway           One-man show   \n",
       "582    Emicida: AmarElo - It's All For Yesterday            Documentary   \n",
       "583     David Attenborough: A Life on Our Planet            Documentary   \n",
       "\n",
       "              Premiere  Runtime  IMDB Score                  Language  Year  \n",
       "0       August 5, 2019       58         2.5          English/Japanese  Augu  \n",
       "1      August 21, 2020       81         2.6                   Spanish  Augu  \n",
       "2    December 26, 2019       79         2.6                   Italian  Dece  \n",
       "3     January 19, 2018       94         3.2                   English  Janu  \n",
       "4     October 30, 2020       90         3.4                     Hindi  Octo  \n",
       "..                 ...      ...         ...                       ...   ...  \n",
       "579  December 31, 2018      125         8.4                   English  Dece  \n",
       "580    October 9, 2015       91         8.4  English/Ukranian/Russian  Octo  \n",
       "581  December 16, 2018      153         8.5                   English  Dece  \n",
       "582   December 8, 2020       89         8.6                Portuguese  Dece  \n",
       "583    October 4, 2020       83         9.0                   English  Octo  \n",
       "\n",
       "[584 rows x 7 columns]"
      ]
     },
     "execution_count": 30,
     "metadata": {},
     "output_type": "execute_result"
    }
   ],
   "source": [
    "df['Year'] = df['Premiere'].astype(str).str[:4]\n",
    "df"
   ]
  },
  {
   "cell_type": "code",
   "execution_count": null,
   "id": "9cc2d113",
   "metadata": {},
   "outputs": [],
   "source": []
  }
 ],
 "metadata": {
  "kernelspec": {
   "display_name": "Python 3 (ipykernel)",
   "language": "python",
   "name": "python3"
  },
  "language_info": {
   "codemirror_mode": {
    "name": "ipython",
    "version": 3
   },
   "file_extension": ".py",
   "mimetype": "text/x-python",
   "name": "python",
   "nbconvert_exporter": "python",
   "pygments_lexer": "ipython3",
   "version": "3.9.7"
  }
 },
 "nbformat": 4,
 "nbformat_minor": 5
}
